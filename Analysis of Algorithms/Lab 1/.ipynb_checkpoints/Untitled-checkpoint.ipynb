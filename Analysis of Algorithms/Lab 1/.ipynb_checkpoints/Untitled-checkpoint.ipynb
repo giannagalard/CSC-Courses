{
 "cells": [
  {
   "cell_type": "code",
   "execution_count": 1,
   "id": "c34a4f5a",
   "metadata": {},
   "outputs": [],
   "source": [
    "import pandas as pd\n",
    "import time"
   ]
  },
  {
   "cell_type": "code",
   "execution_count": 2,
   "id": "86c3adee",
   "metadata": {},
   "outputs": [],
   "source": [
    "def FiboR(n: int) -> int:\n",
    "    if n == 1 or n == 0:\n",
    "        return n\n",
    "    else:\n",
    "        return FiboR(n-1) + FiboR(n-2)"
   ]
  },
  {
   "cell_type": "code",
   "execution_count": 3,
   "id": "32a9c68f",
   "metadata": {},
   "outputs": [],
   "source": [
    "def FiboNR(n: int) -> int:\n",
    "    F = []\n",
    "    F.append(0)\n",
    "    F.append(1)\n",
    "    for i in range(2, n+1):\n",
    "        F.append(F[i-1] + F[i-2])\n",
    "    return F[n]"
   ]
  },
  {
   "cell_type": "code",
   "execution_count": 4,
   "id": "83902f7b",
   "metadata": {},
   "outputs": [],
   "source": [
    "def MODFibR(n: int, fibNums: dict) -> int:\n",
    "    if n < 2:\n",
    "        fibNums[n] = n\n",
    "        return fibNums[n]\n",
    "    elif n in fibNums:\n",
    "        return fibNums[n]\n",
    "    else:\n",
    "        fibNums[n] = MODFibR(n - 1, fibNums) + MODFibR(n - 2, fibNums)\n",
    "        return fibNums[n]"
   ]
  },
  {
   "cell_type": "code",
   "execution_count": null,
   "id": "ccc37efa",
   "metadata": {},
   "outputs": [],
   "source": [
    "MODFibR_Dict = {}\n",
    "# column names (their list elements will be the column data):\n",
    "FiboR_list = []\n",
    "FiboNR_list = []\n",
    "MODFibR_list = []\n",
    "fibValues_list = []\n",
    "int_list = []\n",
    " \n",
    "# populate the lists will the appropriate information\n",
    "for i in range(0, 51, 5):\n",
    "    if i == 0:\n",
    "        i += 1\n",
    "    print(i)\n",
    "    int_list.append(i)\n",
    " \n",
    "    # Calculate the times for each fib function\n",
    "    start1 = time.time()\n",
    "    fib_value = FiboR(i)\n",
    "    end1 = time.time()\n",
    "    FiboR_time = end1 - start1\n",
    " \n",
    "    start2 = time.time()\n",
    "    fib_value = MODFibR(i, MODFibR_Dict)\n",
    "    end2 = time.time()\n",
    "    MODFibR_time = end2 - start2\n",
    " \n",
    "    start3 = time.time()\n",
    "    fib_value = FiboNR(i)\n",
    "    end3 = time.time()\n",
    "    FiboNR_time = end3 - start3\n",
    " \n",
    "    fibValues_list.append(fib_value)\n",
    "    FiboR_list.append(FiboR_time)\n",
    "    MODFibR_list.append(MODFibR_time)\n",
    "    FiboNR_list.append(FiboNR_time)\n",
    " \n",
    "numDict = {\n",
    "    'Integer': int_list,\n",
    "    \"FiboR (seconds)\": FiboR_list,\n",
    "    \"MODFibR\": MODFibR_list,\n",
    "    \"FiboNR (seconds)\": FiboNR_list,\n",
    "    \"Fibo-value\": fibValues_list\n",
    "}\n",
    " \n",
    "fib_df = pd.DataFrame(numDict)\n",
    "print(fib_df)\n"
   ]
  },
  {
   "cell_type": "code",
   "execution_count": null,
   "id": "f077a618",
   "metadata": {},
   "outputs": [],
   "source": []
  }
 ],
 "metadata": {
  "kernelspec": {
   "display_name": "Python 3",
   "language": "python",
   "name": "python3"
  },
  "language_info": {
   "codemirror_mode": {
    "name": "ipython",
    "version": 3
   },
   "file_extension": ".py",
   "mimetype": "text/x-python",
   "name": "python",
   "nbconvert_exporter": "python",
   "pygments_lexer": "ipython3",
   "version": "3.8.8"
  }
 },
 "nbformat": 4,
 "nbformat_minor": 5
}
